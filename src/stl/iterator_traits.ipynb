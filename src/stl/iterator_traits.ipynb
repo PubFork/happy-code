{
 "cells": [
  {
   "cell_type": "markdown",
   "metadata": {},
   "source": [
    "traits 萃取机：丢给他东西能够萃取出你想要的特征\n",
    "\n",
    "针对 iterator 就有 iterator traits\n",
    "\n",
    "针对 type 就有 type traits\n",
    "\n",
    "Iterator 需要遵循的原则\n",
    "\n",
    "iterator 是 算法 和 容器 连接的桥梁\n",
    "\n",
    "算法会像迭代器询问一些属性，以此来对容器做出最优的操作\n",
    "\n",
    "具有的属性有：\n",
    "\n",
    "iterator_category ： 不同的分类会有不同的性质，譬如有的能 ++，有的不能 -- 等\n",
    "\n",
    "difference_type ：代表的是两个迭代器之间的距离用什么表示\n",
    "\n",
    "value_type ：代表的容器中值的类型\n",
    "\n",
    "这种 iterator 需要回答算法的问题的有5种，前面介绍了3种，还有2种是：pointer, reference，暂时从未使用过\n"
   ]
  },
  {
   "cell_type": "code",
   "execution_count": 1,
   "metadata": {
    "collapsed": false
   },
   "outputs": [
    {
     "data": {
      "text/plain": []
     },
     "execution_count": 1,
     "metadata": {},
     "output_type": "execute_result"
    }
   ],
   "source": [
    "#include<array>"
   ]
  },
  {
   "cell_type": "code",
   "execution_count": 2,
   "metadata": {
    "collapsed": false
   },
   "outputs": [
    {
     "data": {
      "text/plain": [
       "(std::array<int, 2> &) @0x10675a190\n"
      ]
     },
     "execution_count": 2,
     "metadata": {},
     "output_type": "execute_result"
    }
   ],
   "source": [
    "std::array<int,2> a = {1,2};"
   ]
  },
  {
   "cell_type": "code",
   "execution_count": 3,
   "metadata": {
    "collapsed": false
   },
   "outputs": [
    {
     "data": {
      "text/plain": []
     },
     "execution_count": 3,
     "metadata": {},
     "output_type": "execute_result"
    }
   ],
   "source": [
    "typedef typename std::array<int,2>::value_type Vtype;"
   ]
  },
  {
   "cell_type": "code",
   "execution_count": 4,
   "metadata": {
    "collapsed": false
   },
   "outputs": [
    {
     "data": {
      "text/plain": [
       "(int) 0\n"
      ]
     },
     "execution_count": 4,
     "metadata": {},
     "output_type": "execute_result"
    }
   ],
   "source": [
    "Vtype b;"
   ]
  },
  {
   "cell_type": "markdown",
   "metadata": {},
   "source": [
    "向上面的代码我们可以直接通过 class 的value_type来获取到，但是如果不是class呢？我们怎么办?\n",
    "\n",
    "这就要增加一个中间层了，就是 iterator_traits，通过它来判别是 class 还是 native pointer "
   ]
  },
  {
   "cell_type": "code",
   "execution_count": 5,
   "metadata": {
    "collapsed": false
   },
   "outputs": [
    {
     "data": {
      "text/plain": []
     },
     "execution_count": 5,
     "metadata": {},
     "output_type": "execute_result"
    }
   ],
   "source": [
    "#include<iterator>"
   ]
  },
  {
   "cell_type": "code",
   "execution_count": 6,
   "metadata": {
    "collapsed": false
   },
   "outputs": [
    {
     "data": {
      "text/plain": []
     },
     "execution_count": 6,
     "metadata": {},
     "output_type": "execute_result"
    }
   ],
   "source": [
    " typedef typename std::iterator_traits<decltype(a.begin())>::value_type Vtype2;"
   ]
  },
  {
   "cell_type": "code",
   "execution_count": 7,
   "metadata": {
    "collapsed": false
   },
   "outputs": [
    {
     "data": {
      "text/plain": [
       "(int) 0\n"
      ]
     },
     "execution_count": 7,
     "metadata": {},
     "output_type": "execute_result"
    }
   ],
   "source": [
    "Vtype2 c;"
   ]
  },
  {
   "cell_type": "markdown",
   "metadata": {},
   "source": [
    "除了 iterator_traits 外，还有\n",
    "\n",
    "1. type traits\n",
    "2. iterator traits\n",
    "3. char traits\n",
    "4. allocator traits\n",
    "5. pointer traits\n",
    "6. array traits"
   ]
  },
  {
   "cell_type": "code",
   "execution_count": null,
   "metadata": {
    "collapsed": true
   },
   "outputs": [],
   "source": []
  }
 ],
 "metadata": {
  "kernelspec": {
   "display_name": "C++11",
   "language": "",
   "name": "cling-c++11"
  },
  "language_info": {
   "codemirror_mode": "text/x-c++src",
   "file_extension": ".c++",
   "mimetype": " text/x-c++src",
   "name": "c++"
  }
 },
 "nbformat": 4,
 "nbformat_minor": 2
}
